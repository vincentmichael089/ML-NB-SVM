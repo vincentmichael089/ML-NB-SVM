{
 "cells": [
  {
   "cell_type": "markdown",
   "metadata": {},
   "source": [
    "# Naive-Bayes dengan data Visit-Nominal.csv\n",
    "\n",
    "\n",
    "### 1. Inisialisasikan library yang diperlukan untuk dataset ini."
   ]
  },
  {
   "cell_type": "code",
   "execution_count": 12,
   "metadata": {},
   "outputs": [],
   "source": [
    "\n",
    "import numpy as np\n",
    "import pandas as pd\n",
    "import matplotlib.pyplot as plt\n",
    "import seaborn as sns\n",
    "import statistics\n",
    "\n",
    "from sklearn.naive_bayes import BernoulliNB\n",
    "\n",
    "from sklearn.model_selection import train_test_split\n",
    "from sklearn.model_selection import cross_val_score"
   ]
  },
  {
   "cell_type": "markdown",
   "metadata": {},
   "source": [
    "\n",
    "### 2. Masukan dataset Visit-Nominal.csv kedalam dataframe"
   ]
  },
  {
   "cell_type": "code",
   "execution_count": 13,
   "metadata": {},
   "outputs": [
    {
     "data": {
      "text/html": [
       "<div>\n",
       "<style scoped>\n",
       "    .dataframe tbody tr th:only-of-type {\n",
       "        vertical-align: middle;\n",
       "    }\n",
       "\n",
       "    .dataframe tbody tr th {\n",
       "        vertical-align: top;\n",
       "    }\n",
       "\n",
       "    .dataframe thead th {\n",
       "        text-align: right;\n",
       "    }\n",
       "</style>\n",
       "<table border=\"1\" class=\"dataframe\">\n",
       "  <thead>\n",
       "    <tr style=\"text-align: right;\">\n",
       "      <th></th>\n",
       "      <th>Home</th>\n",
       "      <th>Browsed</th>\n",
       "      <th>Searched</th>\n",
       "      <th>Prod_A</th>\n",
       "      <th>Prod_B</th>\n",
       "      <th>Prod_C</th>\n",
       "      <th>Visit_Again</th>\n",
       "    </tr>\n",
       "  </thead>\n",
       "  <tbody>\n",
       "    <tr>\n",
       "      <th>0</th>\n",
       "      <td>yes</td>\n",
       "      <td>no</td>\n",
       "      <td>no</td>\n",
       "      <td>no</td>\n",
       "      <td>no</td>\n",
       "      <td>no</td>\n",
       "      <td>no</td>\n",
       "    </tr>\n",
       "    <tr>\n",
       "      <th>1</th>\n",
       "      <td>yes</td>\n",
       "      <td>yes</td>\n",
       "      <td>yes</td>\n",
       "      <td>no</td>\n",
       "      <td>no</td>\n",
       "      <td>no</td>\n",
       "      <td>no</td>\n",
       "    </tr>\n",
       "    <tr>\n",
       "      <th>2</th>\n",
       "      <td>yes</td>\n",
       "      <td>no</td>\n",
       "      <td>no</td>\n",
       "      <td>no</td>\n",
       "      <td>no</td>\n",
       "      <td>no</td>\n",
       "      <td>no</td>\n",
       "    </tr>\n",
       "    <tr>\n",
       "      <th>3</th>\n",
       "      <td>yes</td>\n",
       "      <td>yes</td>\n",
       "      <td>yes</td>\n",
       "      <td>yes</td>\n",
       "      <td>no</td>\n",
       "      <td>no</td>\n",
       "      <td>yes</td>\n",
       "    </tr>\n",
       "    <tr>\n",
       "      <th>4</th>\n",
       "      <td>yes</td>\n",
       "      <td>no</td>\n",
       "      <td>yes</td>\n",
       "      <td>yes</td>\n",
       "      <td>yes</td>\n",
       "      <td>no</td>\n",
       "      <td>yes</td>\n",
       "    </tr>\n",
       "  </tbody>\n",
       "</table>\n",
       "</div>"
      ],
      "text/plain": [
       "  Home Browsed Searched Prod_A Prod_B Prod_C Visit_Again\n",
       "0  yes      no       no     no     no     no          no\n",
       "1  yes     yes      yes     no     no     no          no\n",
       "2  yes      no       no     no     no     no          no\n",
       "3  yes     yes      yes    yes     no     no         yes\n",
       "4  yes      no      yes    yes    yes     no         yes"
      ]
     },
     "execution_count": 13,
     "metadata": {},
     "output_type": "execute_result"
    }
   ],
   "source": [
    "df = pd.read_csv(\"\\\\Users\\\\aftermath\\\\Documents\\\\Machine Learning\\\\Visit-Nominal.csv\",header=None, skipinitialspace=True)\n",
    "attrs = []\n",
    "for attr in range(7):\n",
    "    attrs.append(df.at[0,attr])\n",
    "\n",
    "dfnew = pd.read_csv(\"\\\\Users\\\\aftermath\\\\Documents\\\\Machine Learning\\\\Visit-Nominal.csv\",header=None, skipinitialspace=True, skiprows = 1)\n",
    "dfnew.columns = attrs\n",
    "\n",
    "dfnew.head()"
   ]
  },
  {
   "cell_type": "code",
   "execution_count": 14,
   "metadata": {},
   "outputs": [
    {
     "name": "stdout",
     "output_type": "stream",
     "text": [
      "       Home Browsed Searched Prod_A Prod_B Prod_C Visit_Again\n",
      "count   100     100      100    100    100    100         100\n",
      "unique    2       2        2      2      2      2           2\n",
      "top     yes     yes       no    yes    yes     no          no\n",
      "freq     60      72       57     53     55     55          61\n"
     ]
    }
   ],
   "source": [
    "print(dfnew.describe())"
   ]
  },
  {
   "cell_type": "markdown",
   "metadata": {},
   "source": [
    "\n",
    "### 3. Representasikan data 'yes' dan 'no' kedalam bentuk biner '1' dan '0'"
   ]
  },
  {
   "cell_type": "code",
   "execution_count": 15,
   "metadata": {},
   "outputs": [],
   "source": [
    "toBinary = lambda x: 1 if x==\"yes\" else 0\n",
    "dfnew = dfnew.applymap(toBinary)"
   ]
  },
  {
   "cell_type": "markdown",
   "metadata": {},
   "source": [
    "\n",
    "### 4. Cek apakah terdapat value fitur yang kosong"
   ]
  },
  {
   "cell_type": "code",
   "execution_count": 16,
   "metadata": {},
   "outputs": [
    {
     "data": {
      "text/plain": [
       "<matplotlib.axes._subplots.AxesSubplot at 0x2184911fb70>"
      ]
     },
     "execution_count": 16,
     "metadata": {},
     "output_type": "execute_result"
    },
    {
     "data": {
      "image/png": "[encoded data removed]",
      "text/plain": [
       "<Figure size 432x288 with 2 Axes>"
      ]
     },
     "metadata": {
      "needs_background": "light"
     },
     "output_type": "display_data"
    }
   ],
   "source": [
    "missing_values = dfnew.isnull()\n",
    "missing_values\n",
    "\n",
    "sns.heatmap(data = missing_values)"
   ]
  },
  {
   "cell_type": "markdown",
   "metadata": {},
   "source": [
    "\n",
    "### 5. Lihat perbandingan jumlah class 0 dan 1"
   ]
  },
  {
   "cell_type": "code",
   "execution_count": 17,
   "metadata": {},
   "outputs": [
    {
     "data": {
      "text/plain": [
       "0    61\n",
       "1    39\n",
       "Name: Visit_Again, dtype: int64"
      ]
     },
     "execution_count": 17,
     "metadata": {},
     "output_type": "execute_result"
    },
    {
     "data": {
      "image/png": "[encoded data removed]",
      "text/plain": [
       "<Figure size 432x288 with 1 Axes>"
      ]
     },
     "metadata": {
      "needs_background": "light"
     },
     "output_type": "display_data"
    }
   ],
   "source": [
    "sns.countplot(x='Visit_Again', data=dfnew)\n",
    "dfnew.Visit_Again.value_counts()"
   ]
  },
  {
   "cell_type": "markdown",
   "metadata": {},
   "source": [
    "\n",
    "### 6. Siapkan data untuk training secara biasa dan training dengan cross validation"
   ]
  },
  {
   "cell_type": "code",
   "execution_count": 18,
   "metadata": {},
   "outputs": [
    {
     "data": {
      "text/plain": [
       "['Home', 'Browsed', 'Searched', 'Prod_A', 'Prod_B', 'Prod_C']"
      ]
     },
     "execution_count": 18,
     "metadata": {},
     "output_type": "execute_result"
    }
   ],
   "source": [
    "feature = attrs\n",
    "feature.pop()\n",
    "feature"
   ]
  },
  {
   "cell_type": "code",
   "execution_count": 19,
   "metadata": {},
   "outputs": [
    {
     "data": {
      "text/plain": [
       "['Home', 'Browsed', 'Searched', 'Prod_A', 'Prod_B', 'Prod_C']"
      ]
     },
     "execution_count": 19,
     "metadata": {},
     "output_type": "execute_result"
    }
   ],
   "source": [
    "features = dfnew[feature]\n",
    "label = dfnew['Visit_Again']\n",
    "\n",
    "X_train, X_test, y_train, y_test = train_test_split(features, label, test_size=0.25, random_state=101)\n",
    "feature"
   ]
  },
  {
   "cell_type": "markdown",
   "metadata": {},
   "source": [
    "\n",
    "###  7. Train data secara biasa, didapatkan skor sebesar 0.64"
   ]
  },
  {
   "cell_type": "code",
   "execution_count": 20,
   "metadata": {},
   "outputs": [
    {
     "name": "stdout",
     "output_type": "stream",
     "text": [
      "SCORE :  0.56\n"
     ]
    }
   ],
   "source": [
    "naivebayesmodel = BernoulliNB()\n",
    "\n",
    "naivebayesmodel.fit(X_train, y_train)\n",
    "print(\"SCORE : \",naivebayesmodel.score(X_test, y_test))"
   ]
  },
  {
   "cell_type": "markdown",
   "metadata": {},
   "source": [
    "\n",
    "###  8. Train data dengan cross-validation, didapatkan skor sebesar 0.58"
   ]
  },
  {
   "cell_type": "code",
   "execution_count": 21,
   "metadata": {},
   "outputs": [
    {
     "name": "stdout",
     "output_type": "stream",
     "text": [
      "CROSS VALIDATION SCORE :  0.5200751879699248\n"
     ]
    }
   ],
   "source": [
    "naivebayesmodelkfold = BernoulliNB()\n",
    "\n",
    "score =  cross_val_score(naivebayesmodelkfold, features, label, cv=5)\n",
    "print(\"CROSS VALIDATION SCORE : \",statistics.mean(score))"
   ]
  },
  {
   "cell_type": "markdown",
   "metadata": {},
   "source": [
    "\n",
    "### 9.  Melihat log probabilitas setiap fitur dari class 0 dan 1"
   ]
  },
  {
   "cell_type": "code",
   "execution_count": 22,
   "metadata": {},
   "outputs": [
    {
     "name": "stdout",
     "output_type": "stream",
     "text": [
      "probability of class 0 \n",
      "feature  1 :  0.732575714272584\n",
      "feature  2 :  0.7826070218144325\n",
      "feature  3 :  0.5337704624000148\n",
      "feature  4 :  0.6275952022872798\n",
      "feature  5 :  0.7155617759223357\n",
      "feature  6 :  0.6093515137984894\n",
      "\n",
      "probability of class 1 \n",
      "feature  1 :  0.6711168360853097\n",
      "feature  2 :  0.7954032230077729\n",
      "feature  3 :  0.4465362457883447\n",
      "feature  4 :  0.7712692781806878\n",
      "feature  5 :  0.6711168360853097\n",
      "feature  6 :  0.591444335183008\n"
     ]
    }
   ],
   "source": [
    "class0_attrprob = naivebayesmodel.feature_log_prob_[0]\n",
    "class1_attrprob = naivebayesmodel.feature_log_prob_[1]\n",
    "print(\"probability of class 0 \")\n",
    "for i in (range(len(naivebayesmodel.feature_log_prob_[0]))):\n",
    "    print(\"feature \",i+1,\": \",pow(2,class0_attrprob[i]))\n",
    "\n",
    "print(\"\\nprobability of class 1 \")\n",
    "for i in (range(len(naivebayesmodel.feature_log_prob_[1]))):\n",
    "    print(\"feature \",i+1,\": \",pow(2,class1_attrprob[i]))"
   ]
  },
  {
   "cell_type": "code",
   "execution_count": null,
   "metadata": {},
   "outputs": [],
   "source": []
  }
 ],
 "metadata": {
  "kernelspec": {
   "display_name": "Python 3",
   "language": "python",
   "name": "python3"
  },
  "language_info": {
   "codemirror_mode": {
    "name": "ipython",
    "version": 3
   },
   "file_extension": ".py",
   "mimetype": "text/x-python",
   "name": "python",
   "nbconvert_exporter": "python",
   "pygments_lexer": "ipython3",
   "version": "3.6.8"
  }
 },
 "nbformat": 4,
 "nbformat_minor": 2
}
